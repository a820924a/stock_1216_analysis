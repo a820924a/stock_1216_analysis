{
 "cells": [
  {
   "cell_type": "markdown",
   "id": "1e5db5a5",
   "metadata": {},
   "source": [
    "# 統一企業（1216）股價資料分析\n",
    "\n",
    "本筆記本示範如何使用 Python 爬取統一企業（股票代號 1216）的股價資料並進行簡單的可視化。\n",
    "\n",
    "使用的資料來源為 [Yahoo Finance](https://finance.yahoo.com/)，透過 `yfinance` 套件即可取得台股歷史股價資料。\n",
    "\n",
    "> **注意**：在執行以下程式碼前，請確認您的 Colab 或 Python 執行環境可以連線網際網路。\n"
   ]
  },
  {
   "cell_type": "code",
   "execution_count": null,
   "id": "34e1974e",
   "metadata": {},
   "outputs": [],
   "source": [
    "# 如果尚未安裝 yfinance，可以取消註解下列程式碼執行安裝\n",
    "# !pip install yfinance --quiet\n"
   ]
  },
  {
   "cell_type": "code",
   "execution_count": null,
   "id": "f83cf2d5",
   "metadata": {},
   "outputs": [],
   "source": [
    "import yfinance as yf\n",
    "import pandas as pd\n",
    "import matplotlib.pyplot as plt\n",
    "\n",
    "# 設定股票代號與日期範圍\n",
    "stock_id = '1216.TW'  # Yahoo Finance 台股代號需加上 .TW\n",
    "start_date = '2020-01-01'\n",
    "end_date = '2025-09-15'  # 或使用 datetime.date.today().strftime('%Y-%m-%d')\n",
    "\n",
    "# 下載股價資料\n",
    "stock_data = yf.download(stock_id, start=start_date, end=end_date)\n",
    "\n",
    "# 顯示前幾筆資料\n",
    "stock_data.head()\n"
   ]
  },
  {
   "cell_type": "code",
   "execution_count": null,
   "id": "8406f52e",
   "metadata": {},
   "outputs": [],
   "source": [
    "# 繪製收盤價走勢圖\n",
    "plt.figure(figsize=(10, 5))\n",
    "plt.plot(stock_data.index, stock_data['Close'], label='收盤價')\n",
    "plt.title('統一企業 (1216) 收盤價走勢')\n",
    "plt.xlabel('日期')\n",
    "plt.ylabel('收盤價')\n",
    "plt.grid(True)\n",
    "plt.legend()\n",
    "plt.show()\n"
   ]
  }
 ],
 "metadata": {},
 "nbformat": 4,
 "nbformat_minor": 5
}
