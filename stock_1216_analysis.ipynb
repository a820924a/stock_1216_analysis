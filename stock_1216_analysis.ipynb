{
 "cells": [
  {
   "cell_type": "markdown",
   "id": "0ee7962a",
   "metadata": {},
   "source": [
    "## 統一企業 (1216.TW) 股價資料分析\n",
    "\n",
    "這份筆記示範如何使用 Python 透過 Yahoo Finance 下載統一企業（股票代號 1216.TW）的歷史股價，並進行可視化分析。"
   ]
  },
  {
   "cell_type": "markdown",
   "id": "f1f18897",
   "metadata": {},
   "source": [
    "以下範例可於 Colab 或本機 Jupyter Notebook 運行。第一段為安裝套件，若執行環境已安裝 `yfinance` 與 `mplfinance` 可省略。"
   ]
  },
  {
   "cell_type": "code",
   "execution_count": null,
   "id": "e78e0a1b",
   "metadata": {},
   "outputs": [],
   "source": [
    "# 在需要時安裝 yfinance 與 mplfinance\n",
    "# !pip install yfinance mplfinance --quiet"
   ]
  },
  {
   "cell_type": "code",
   "execution_count": null,
   "id": "e866e457",
   "metadata": {},
   "outputs": [],
   "source": [
    "import yfinance as yf\n",
    "import pandas as pd\n",
    "import matplotlib.pyplot as plt\n",
    "import mplfinance as mpf\n",
    "\n",
    "# 定義股票代碼（台股需加上 .TW 後綴）\n",
    "ticker = '1216.TW'\n",
    "\n",
    "# 下載歷史股價資料，起始日期可自行調整\n",
    "stock_data = yf.download(ticker, start='2020-01-01', progress=False)\n",
    "\n",
    "# 檢視資料前五列\n",
    "stock_data.head()"
   ]
  },
  {
   "cell_type": "code",
   "execution_count": null,
   "id": "212fad46",
   "metadata": {},
   "outputs": [],
   "source": [
    "# 繪製收盤價折線圖\n",
    "plt.figure(figsize=(12,4))\n",
    "plt.plot(stock_data.index, stock_data['Close'], label='收盤價')\n",
    "plt.title('統一企業 (1216.TW) 收盤價走勢')\n",
    "plt.xlabel('日期')\n",
    "plt.ylabel('收盤價 (TWD)')\n",
    "plt.grid(True)\n",
    "plt.legend()\n",
    "plt.show()"
   ]
  },
  {
   "cell_type": "code",
   "execution_count": null,
   "id": "48a5e9d7",
   "metadata": {},
   "outputs": [],
   "source": [
    "# 使用 mplfinance 繪製 K 線圖，含成交量及移動平均線\n",
    "mpf.plot(\n",
    "    stock_data,\n",
    "    type='candle',\n",
    "    mav=(20, 60),\n",
    "    volume=True,\n",
    "    figsize=(12,6),\n",
    "    title='統一企業 (1216.TW) K 線圖（含 20/60 日均線與成交量）'\n",
    ")"
   ]
  },
  {
   "cell_type": "markdown",
   "id": "480b9825",
   "metadata": {},
   "source": [
    "透過上述程式，我們成功下載並視覺化了統一企業在指定期間的歷史股價。您可以調整日期區間、加入更多技術指標或比較其他股票，進一步分析股票走勢。"
   ]
  }
 ],
 "metadata": {
  "kernelspec": {
   "display_name": "Python 3",
   "language": "python",
   "name": "python3"
  },
  "language_info": {
   "name": "python",
   "version": "3.10"
  }
 },
 "nbformat": 4,
 "nbformat_minor": 5
}
